{
  "nbformat": 4,
  "nbformat_minor": 0,
  "metadata": {
    "colab": {
      "provenance": []
    },
    "kernelspec": {
      "name": "python3",
      "display_name": "Python 3"
    },
    "language_info": {
      "name": "python"
    }
  },
  "cells": [
    {
      "cell_type": "code",
      "execution_count": 1,
      "metadata": {
        "colab": {
          "base_uri": "https://localhost:8080/"
        },
        "id": "uqtjjEXTBU6A",
        "outputId": "8c4ec0f3-8f79-4ec9-e949-98e75746b8e2"
      },
      "outputs": [
        {
          "output_type": "stream",
          "name": "stdout",
          "text": [
            "Requirement already satisfied: openpyxl in /usr/local/lib/python3.10/dist-packages (3.1.2)\n",
            "Requirement already satisfied: et-xmlfile in /usr/local/lib/python3.10/dist-packages (from openpyxl) (1.1.0)\n",
            "Requirement already satisfied: xlrd in /usr/local/lib/python3.10/dist-packages (2.0.1)\n"
          ]
        }
      ],
      "source": [
        "!pip install openpyxl\n",
        "!pip install xlrd\n",
        "#%pip install piplite\n",
        "#import piplite\n",
        "#await piplite.install(['xlrd','openpyxl'])\n",
        "import pandas as pd\n",
        "import numpy as np\n",
        "import matplotlib.pyplot as plt\n",
        "import seaborn as sns\n",
        "%matplotlib inline\n",
        "import sqlite3\n",
        "\n",
        "\n"
      ]
    },
    {
      "cell_type": "code",
      "source": [
        "from urllib.request import urlopen\n",
        "from bs4 import BeautifulSoup\n",
        "import requests\n"
      ],
      "metadata": {
        "id": "faoS7QfbNSkW"
      },
      "execution_count": 2,
      "outputs": []
    },
    {
      "cell_type": "code",
      "source": [
        "url = \"https://www.ebi.ac.uk/intact/search?query=annot:%22dataset:cancer%22&interactorTypesFilter=protein&interactionTypesFilter=direct%20interaction&interactionHostOrganismsFilter=In%20vitro\"\n",
        "data  = requests.get(url).text\n",
        "soup = BeautifulSoup(data, 'html5lib')"
      ],
      "metadata": {
        "id": "ZW4EiGy0Qjfa"
      },
      "execution_count": 3,
      "outputs": []
    },
    {
      "cell_type": "code",
      "source": [
        "print(data)"
      ],
      "metadata": {
        "colab": {
          "base_uri": "https://localhost:8080/"
        },
        "id": "-ue_cs5EeK0h",
        "outputId": "befe1bfd-5aab-49ba-b6a3-a195d1f90160"
      },
      "execution_count": 4,
      "outputs": [
        {
          "output_type": "stream",
          "name": "stdout",
          "text": [
            "<!DOCTYPE html><html lang=\"en\"><head>\n",
            "  <meta charset=\"utf-8\">\n",
            "  <meta http-equiv=\"x-ua-compatible\" content=\"ie=edge\">\n",
            "  <meta name=\"viewport\" content=\"width=device-width, initial-scale=1\">\n",
            "  <base href=\"/intact/\">\n",
            "  <title>IntAct Portal</title>\n",
            "  <meta name=\"description\" content=\"EMBL-EBI\"><!-- Describe what this page is about -->\n",
            "  <meta name=\"keywords\" content=\"bioinformatics, europe, institute\">\n",
            "  <!-- A few keywords that relate to the content of THIS PAGE (not the whol project) -->\n",
            "  <meta name=\"author\" content=\"EMBL-EBI\"><!-- Your [project-name] here -->\n",
            "  <meta name=\"HandheldFriendly\" content=\"true\">\n",
            "  <meta name=\"MobileOptimized\" content=\"width\">\n",
            "  <meta name=\"viewport\" content=\"width=device-width,initial-scale=1\">\n",
            "  <meta name=\"theme-color\" content=\"#70BDBD\"> <!-- Android Chrome mobile browser tab color -->\n",
            "\n",
            "  <!-- Add information on the life cycle of this page -->\n",
            "  <meta name=\"ebi:owner\" content=\"Molecular Interactions-Team (intact-help@ebi.ac.uk)\">\n",
            "  <!-- Who should be contacted about changes -->\n",
            "  <meta name=\"ebi:review-cycle\" content=\"30\"> <!-- In days, how often should the content be reviewed -->\n",
            "  <meta name=\"ebi:last-review\" content=\"2015-12-20\"> <!-- The last time the content was reviewed -->\n",
            "  <meta name=\"ebi:expiry\" content=\"2016-01-20\"> <!-- When this content is no longer relevant -->\n",
            "\n",
            "  <!-- If you link to any other sites frequently, consider optimising performance with a DNS prefetch -->\n",
            "  <link rel=\"dns-prefetch\" href=\"//www.ebi.ac.uk\">\n",
            "\n",
            "  <!-- If you have custom icon, replace these as appropriate.\n",
            "       You can generate them at realfavicongenerator.net -->\n",
            "  <link rel=\"icon\" type=\"image/x-icon\" href=\"https://ebi.emblstatic.net/web_guidelines/EBI-Framework/v1.3/images/logos/EMBL-EBI/favicons/favicon.ico\">\n",
            "  <link rel=\"icon\" type=\"image/png\" href=\"https://ebi.emblstatic.net/web_guidelines/EBI-Framework/v1.3/images/logos/EMBL-EBI/favicons/favicon-32x32.png\">\n",
            "  <link rel=\"icon\" type=\"image/png\" sizes=\"192Ã192\" href=\"https://ebi.emblstatic.net/web_guidelines/EBI-Framework/v1.3/images/logos/EMBL-EBI/favicons/android-chrome-192x192.png\">\n",
            "  <!-- Android (192px) -->\n",
            "  <link rel=\"apple-touch-icon-precomposed\" sizes=\"114x114\" href=\"https://ebi.emblstatic.net/web_guidelines/EBI-Framework/v1.3/images/logos/EMBL-EBI/favicons/apple-icon-114x114.png\">\n",
            "  <!-- For iPhone 4 Retina display (114px) -->\n",
            "  <link rel=\"apple-touch-icon-precomposed\" sizes=\"72x72\" href=\"https://ebi.emblstatic.net/web_guidelines/EBI-Framework/v1.3/images/logos/EMBL-EBI/favicons/apple-icon-72x72.png\">\n",
            "  <!-- For iPad (72px) -->\n",
            "  <link rel=\"apple-touch-icon-precomposed\" sizes=\"144x144\" href=\"https://ebi.emblstatic.net/web_guidelines/EBI-Framework/v1.3/images/logos/EMBL-EBI/favicons/apple-icon-144x144.png\">\n",
            "  <!-- For iPad retinat (144px) -->\n",
            "  <link rel=\"apple-touch-icon-precomposed\" href=\"https://ebi.emblstatic.net/web_guidelines/EBI-Framework/v1.3/images/logos/EMBL-EBI/favicons/apple-icon-57x57.png\">\n",
            "  <!-- For iPhone (57px) -->\n",
            "  <link rel=\"mask-icon\" href=\"https://ebi.emblstatic.net/web_guidelines/EBI-Framework/v1.3/images/logos/EMBL-EBI/favicons/safari-pinned-tab.svg\" color=\"#ffffff\"> <!-- Safari icon for pinned tab -->\n",
            "  <meta name=\"msapplication-TileColor\" content=\"#2b5797\"> <!-- MS Icons -->\n",
            "  <meta name=\"msapplication-TileImage\" content=\"https://ebi.emblstatic.net/web_guidelines/EBI-Framework/v1.3/images/logos/EMBL-EBI/favicons/mstile-144x144.png\">\n",
            "  <!-- CSS concatenated and minified via ant build script-->\n",
            "\n",
            "  <link rel=\"stylesheet\" href=\"https://ebi.emblstatic.net/web_guidelines/EBI-Framework/v1.3/css/ebi-global.css\" type=\"text/css\" media=\"all\">\n",
            "  <link rel=\"stylesheet\" href=\"https://ebi.emblstatic.net/web_guidelines/EBI-Icon-fonts/v1.3/fonts.css\" type=\"text/css\" media=\"all\">\n",
            "  <!-- you can replace this with theme-[projectname].css. See http://www.ebi.ac.uk/web/style/colour for details of how to do this -->\n",
            "  <!-- also inform ES so we can host your colour palette file -->\n",
            "  <link rel=\"stylesheet\" href=\"https://ebi.emblstatic.net/web_guidelines/EBI-Framework/v1.3/css/theme-embl-petrol.css\" type=\"text/css\" media=\"all\">\n",
            "\n",
            "  <link rel=\"stylesheet\" href=\"assets/css/custom_typeahead.css\" media=\"print\" onload=\"this.media='all'\"><noscript><link rel=\"stylesheet\" href=\"assets/css/custom_typeahead.css\"></noscript>\n",
            "  <style>a{color:#222}a:hover,a:focus,a:active{color:#68297c}a:visited{color:#312146}</style><link rel=\"stylesheet\" href=\"assets/css/intact-theme.css\" media=\"print\" onload=\"this.media='all'\"><noscript><link rel=\"stylesheet\" href=\"assets/css/intact-theme.css\"></noscript>\n",
            "\n",
            "  <link rel=\"stylesheet\" href=\"https://ajax.googleapis.com/ajax/libs/jqueryui/1.12.1/themes/smoothness/jquery-ui.css\">\n",
            "  <link rel=\"stylesheet\" href=\"https://cdn.datatables.net/1.10.19/css/jquery.dataTables.min.css\">\n",
            "\n",
            "  <!-- Markdown & Markdown KaTeX -->\n",
            "  <link rel=\"stylesheet\" href=\"https://cdnjs.cloudflare.com/ajax/libs/KaTeX/0.11.1/katex.min.css\">\n",
            "  <!-- end CSS-->\n",
            "\n",
            "  <!-- Google Analytics -->\n",
            "  <script>\n",
            "    (function (i, s, o, g, r, a, m) {\n",
            "      i['GoogleAnalyticsObject'] = r;\n",
            "      i[r] = i[r] || function () {\n",
            "        (i[r].q = i[r].q || []).push(arguments)\n",
            "      }, i[r].l = 1 * new Date();\n",
            "      a = s.createElement(o),\n",
            "        m = s.getElementsByTagName(o)[0];\n",
            "      a.async = 1;\n",
            "      a.src = g;\n",
            "      m.parentNode.insertBefore(a, m)\n",
            "    })(window, document, 'script', 'https://www.google-analytics.com/analytics.js', 'ga');\n",
            "\n",
            "    // ga('create', 'G-HNXFRFDCM6', 'none');\n",
            "  </script>\n",
            "  <!-- End Google Analytics -->\n",
            "<link rel=\"stylesheet\" href=\"styles.6973bd99f80ea4fa.css\" media=\"print\" onload=\"this.media='all'\"><noscript><link rel=\"stylesheet\" href=\"styles.6973bd99f80ea4fa.css\"></noscript><link rel=\"stylesheet\" href=\"main.afbd3dbdca63b86e.css\" media=\"print\" onload=\"this.media='all'\"><noscript><link rel=\"stylesheet\" href=\"main.afbd3dbdca63b86e.css\"></noscript></head>\n",
            "\n",
            "<body class=\"level2\"><!-- add any of your classes or IDs -->\n",
            "<div id=\"skip-to\">\n",
            "  <ul>\n",
            "    <li><a href=\"#content\">Skip to main content</a></li>\n",
            "    <li><a href=\"#local-nav\">Skip to local navigation</a></li>\n",
            "    <li><a href=\"#global-nav\">Skip to EBI global navigation menu</a></li>\n",
            "    <li><a href=\"#global-nav-expanded\">Skip to expanded EBI global navigation menu (includes all sub-sections)</a></li>\n",
            "  </ul>\n",
            "</div>\n",
            "\n",
            "<!-- EBI GLOBAL MASTHEAD SECTION -->\n",
            "<!-- This layout will be purged but we use this markup as a preaload placeholder -->\n",
            "<header id=\"masthead-black-bar\" class=\"clearfix masthead-black-bar\">\n",
            "</header>\n",
            "\n",
            "<div id=\"content\">\n",
            "  <ip-root>Loading...</ip-root>\n",
            "</div>\n",
            "<!-- End suggested layout containers / #content -->\n",
            "\n",
            "<footer>\n",
            "  <!--<script src=\"assets/html/global-footer.html\"></script>-->\n",
            "  <div id=\"global-footer\" class=\"global-footer\">\n",
            "    <nav id=\"global-nav-expanded\" class=\"global-nav-expanded row\">\n",
            "      <!-- Footer will be automatically inserted by footer.js -->\n",
            "    </nav>\n",
            "\n",
            "    <section id=\"ebi-footer-meta\" class=\"ebi-footer-meta row\">\n",
            "      <!-- Footer meta will be automatically inserted by footer.js -->\n",
            "      <p class=\"address\">EMBL-EBI, Wellcome Genome Campus, Hinxton, Cambridgeshire, CB10 1SD, UK &nbsp; &nbsp; +44\n",
            "        (0)1223 49 44 44</p>\n",
            "      <p>Copyright Â© EMBL-EBI 2020 | EBI is an outstation of the <a href=\"http://www.embl.org/\">European Molecular\n",
            "        Biology Laboratory</a> | <a href=\"https://ebiwd.github.io/about/terms-of-use\">Terms of use</a></p>\n",
            "    </section>\n",
            "  </div>\n",
            "\n",
            "</footer>\n",
            "\n",
            "\n",
            "<!-- Google Analytics details... -->\n",
            "<!-- Change UA-XXXXX-X to be your site's ID -->\n",
            "<!--\n",
            "<script>\n",
            "  window._gaq = [['_setAccount','UAXXXXXXXX1'],['_trackPageview'],['_trackPageLoadTime']];\n",
            "  Modernizr.load({\n",
            "    load: ('https:' == location.protocol ? '//ssl' : '//www') + '.google-analytics.com/ga.js'\n",
            "  });\n",
            "</script>\n",
            "-->\n",
            "<script src=\"runtime.86bc6401ec5adc7a.js\" type=\"module\"></script><script src=\"polyfills.b5ceb129296b0982.js\" type=\"module\"></script><script src=\"scripts.5675372397e74ba4.js\" defer></script><script src=\"main.0d7d13f0ab0654d5.js\" type=\"module\"></script>\n",
            "\n",
            "</body></html>\n"
          ]
        }
      ]
    },
    {
      "cell_type": "code",
      "source": [
        "\n",
        "type(soup)\n"
      ],
      "metadata": {
        "colab": {
          "base_uri": "https://localhost:8080/"
        },
        "id": "Hn6GCXYcNj2v",
        "outputId": "fff2ce7d-751e-42b3-f758-5acec3b6eb38"
      },
      "execution_count": 5,
      "outputs": [
        {
          "output_type": "execute_result",
          "data": {
            "text/plain": [
              "bs4.BeautifulSoup"
            ]
          },
          "metadata": {},
          "execution_count": 5
        }
      ]
    },
    {
      "cell_type": "code",
      "source": [
        "cancer_data = pd.DataFrame(columns=[\"Molecule A\",\t\"Molecule B\",\t\"Identifier A\",\t\"Identifier B\",\t\"Type A\",\t\"Type B\",\t\"Species A\",\t\"Species B\",\t\"Host Organism\",\t\"Positive interaction\",\t\"Detection Method\",\t\"Publication IDs\",\t\"Interaction Type\",\t\"Interaction AC\",\t\"Confidence Value\",\t\"Expansion Method\",\t\"Aliases A\",\t\"Aliases B\",\t\"Feature count\",\t\"Interaction Annotations\"\n",
        "])"
      ],
      "metadata": {
        "id": "DLJqVescR7df"
      },
      "execution_count": 6,
      "outputs": []
    },
    {
      "cell_type": "code",
      "source": [
        "# First we isolate the body of the table which contains all the information\n",
        "# Then we loop through each row and find all the column values for each row\n",
        "for row in soup.find(\"tbody\").find_all('tr'):\n",
        "  col = row.find_all(\"td\")\n",
        "  Molecule_A = col[0].text\n",
        "  Molecule_B = col[1].text\n",
        "  Identifier_A = col[2].text\n",
        "  Identifier_B = col[3].text\n",
        "  Type_A = col[4].text\n",
        "  Type_B = col[5].text\n",
        "  Species_A = col[6].text\n",
        "  Species_B = col[7].text\n",
        "  Host_Organism = col[8].text\n",
        "  Positive_interaction = col[9].text\n",
        "  Detection_Method = col[10].text\n",
        "  Publication_IDs = col[11].text\n",
        "  Interaction_Type = col[12].text\n",
        "  Interaction_AC = col[13].text\n",
        "  Confidence_Value = col[14].text\n",
        "  Expansion_Method = col[15].text\n",
        "  Aliases_A = col[16].text\n",
        "  Aliases_B = col[17].text\n",
        "  Feature_count = col[18].text\n",
        "  Interaction_Annotations = col[19].text\n",
        "# Finally, you can use the extracted values as needed (e.g., print or append to a list)\n",
        "print(\"Molecule A:\", Molecule_A)\n",
        "print(\"Molecule B:\", Molecule_B)\n",
        "# ... (similar print statements for other variables)\n"
      ],
      "metadata": {
        "colab": {
          "base_uri": "https://localhost:8080/",
          "height": 245
        },
        "id": "Xr9WfKxNnYz-",
        "outputId": "f4780261-ce9b-4bc3-8b21-e094f0eae4fa"
      },
      "execution_count": 7,
      "outputs": [
        {
          "output_type": "error",
          "ename": "AttributeError",
          "evalue": "'NoneType' object has no attribute 'find_all'",
          "traceback": [
            "\u001b[0;31m---------------------------------------------------------------------------\u001b[0m",
            "\u001b[0;31mAttributeError\u001b[0m                            Traceback (most recent call last)",
            "\u001b[0;32m<ipython-input-7-084120977b9c>\u001b[0m in \u001b[0;36m<cell line: 3>\u001b[0;34m()\u001b[0m\n\u001b[1;32m      1\u001b[0m \u001b[0;31m# First we isolate the body of the table which contains all the information\u001b[0m\u001b[0;34m\u001b[0m\u001b[0;34m\u001b[0m\u001b[0m\n\u001b[1;32m      2\u001b[0m \u001b[0;31m# Then we loop through each row and find all the column values for each row\u001b[0m\u001b[0;34m\u001b[0m\u001b[0;34m\u001b[0m\u001b[0m\n\u001b[0;32m----> 3\u001b[0;31m \u001b[0;32mfor\u001b[0m \u001b[0mrow\u001b[0m \u001b[0;32min\u001b[0m \u001b[0msoup\u001b[0m\u001b[0;34m.\u001b[0m\u001b[0mfind\u001b[0m\u001b[0;34m(\u001b[0m\u001b[0;34m\"tbody\"\u001b[0m\u001b[0;34m)\u001b[0m\u001b[0;34m.\u001b[0m\u001b[0mfind_all\u001b[0m\u001b[0;34m(\u001b[0m\u001b[0;34m'tr'\u001b[0m\u001b[0;34m)\u001b[0m\u001b[0;34m:\u001b[0m\u001b[0;34m\u001b[0m\u001b[0;34m\u001b[0m\u001b[0m\n\u001b[0m\u001b[1;32m      4\u001b[0m   \u001b[0mcol\u001b[0m \u001b[0;34m=\u001b[0m \u001b[0mrow\u001b[0m\u001b[0;34m.\u001b[0m\u001b[0mfind_all\u001b[0m\u001b[0;34m(\u001b[0m\u001b[0;34m\"td\"\u001b[0m\u001b[0;34m)\u001b[0m\u001b[0;34m\u001b[0m\u001b[0;34m\u001b[0m\u001b[0m\n\u001b[1;32m      5\u001b[0m   \u001b[0mMolecule_A\u001b[0m \u001b[0;34m=\u001b[0m \u001b[0mcol\u001b[0m\u001b[0;34m[\u001b[0m\u001b[0;36m0\u001b[0m\u001b[0;34m]\u001b[0m\u001b[0;34m.\u001b[0m\u001b[0mtext\u001b[0m\u001b[0;34m\u001b[0m\u001b[0;34m\u001b[0m\u001b[0m\n",
            "\u001b[0;31mAttributeError\u001b[0m: 'NoneType' object has no attribute 'find_all'"
          ]
        }
      ]
    },
    {
      "cell_type": "code",
      "source": [
        "# If you want to append the data to a table or DataFrame, you can do something like this:\n",
        "# Assuming you have a DataFrame named 'cancer_data'\n",
        "# cancer_data = cancer_data.append({\"Molecule A\": Molecule_A, \"Molecule B\": Molecule_B, ..., \"Interaction Annotations\": Interaction_Annotations}, ignore_index=True)"
      ],
      "metadata": {
        "id": "ua5dcvRtoXh8"
      },
      "execution_count": null,
      "outputs": []
    },
    {
      "cell_type": "code",
      "source": [
        "# First we isolate the body of the table which contains all the information\n",
        "# Then we loop through each row and find all the column values for each row\n",
        "for row in soup.find(\"tbody\").find_all('tr'):\n",
        "    col = row.find_all(\"td\")\n",
        "    Molecule A = col[0].text\n",
        "    Molecule B = col[1].text\n",
        "    Identifier A = col[2].text\n",
        "    Identifier B = col[3].text\n",
        "    Type A = col[4].text\n",
        "    Type B = col[5].text\n",
        "    Species A = col[6].text\n",
        "    Species B = col[7].text\n",
        "    Host Organism = col[8].text\n",
        "    Positive interaction = col[9].text\n",
        "    Detection Method = col[10].text\n",
        "    Publication IDs = col[11].text\n",
        "    Interaction Type = col[12].text\n",
        "    Interaction AC = col[13].text\n",
        "    Confidence Value = col[14].text\n",
        "    Expansion Method = col[15].text\n",
        "    Aliases A = col[16].text\n",
        "    Aliases B = col[17].text\n",
        "    Feature count = col[18].text\n",
        "    Interaction Annotations = col[19].text\n",
        "\n",
        "\n",
        "    # Finally we append the data of each row to the table\n",
        "    cancer_data = cancer_data.append({\"Molecule A\" : Molecule A,\t\"Molecule B\" : Molecule B ,\t\"Identifier A\" : Identifier A, \"Identifier B\" : Identifier B,\t\"Type A\" : Type A,\t\"Type B\" : Type B,\t\"Species A\": Species A,\t\"Species B\" : Species B,\t\"Host Organism\" : Host Organism,\t\"Positive interaction\" : Positive interaction,\t\"Detection Method\" : Detection Method,\t\"Publication IDs\" : Publication IDs,\t\"Interaction Type\" : Interaction Type,\t\"Interaction AC\"  Interaction AC,\t\"Confidence Value\" : Confidence Value,\t\"Expansion Method\" : Expansion Method,\t\"Aliases A\" : Aliases A,\t\"Aliases B\" : Aliases B,\t\"Feature count\" : Feature count,\t\"Interaction Annotations\" : Interaction Annotations }, ignore_index=True)"
      ],
      "metadata": {
        "id": "U4-7A4xJTlxm",
        "colab": {
          "base_uri": "https://localhost:8080/",
          "height": 140
        },
        "outputId": "3b65ed6f-e743-40e8-83a7-a11f6d631aef"
      },
      "execution_count": null,
      "outputs": [
        {
          "output_type": "error",
          "ename": "SyntaxError",
          "evalue": "invalid syntax (<ipython-input-30-593f753ebb8b>, line 5)",
          "traceback": [
            "\u001b[0;36m  File \u001b[0;32m\"<ipython-input-30-593f753ebb8b>\"\u001b[0;36m, line \u001b[0;32m5\u001b[0m\n\u001b[0;31m    Molecule A = col[0].text\u001b[0m\n\u001b[0m             ^\u001b[0m\n\u001b[0;31mSyntaxError\u001b[0m\u001b[0;31m:\u001b[0m invalid syntax\n"
          ]
        }
      ]
    },
    {
      "cell_type": "code",
      "source": [
        "# First we isolate the body of the table which contains all the information\n",
        "# Then we loop through each row and find all the column values for each row\n",
        "for row in soup.find(\"thead\").find_all('tr'):\n",
        "    col = row.find_all(\"th\")\n",
        "    Molecule A = col[0].text\n",
        "    Molecule B = col[1].text\n",
        "    Identifier A = col[2].text\n",
        "    Identifier B = col[3].text\n",
        "    Type A = col[4].text\n",
        "    Type B = col[5].text\n",
        "    Species A = col[6].text\n",
        "    Species B = col[7].text\n",
        "    Host Organism = col[8].text\n",
        "    Positive interaction = col[9].text\n",
        "    Detection Method = col[10].text\n",
        "    Publication IDs = col[11].text\n",
        "    Interaction Type = col[12].text\n",
        "    Interaction AC = col[13].text\n",
        "    Confidence Value = col[14].text\n",
        "    Expansion Method = col[15].text\n",
        "    Aliases A = col[16].text\n",
        "    Aliases B = col[17].text\n",
        "    Feature count = col[18].text\n",
        "    Interaction Annotations = col[19].text\n",
        "\n",
        "\n",
        "    # Finally we append the data of each row to the table\n",
        "    cancer_data = cancer_data.append({\"Molecule A\" : Molecule A,\t\"Molecule B\" : Molecule B ,\t\"Identifier A\" : Identifier A, \"Identifier B\" : Identifier B,\t\"Type A\" : Type A,\t\"Type B\" : Type B,\t\"Species A\": Species A,\t\"Species B\" : Species B,\t\"Host Organism\" : Host Organism,\t\"Positive interaction\" : Positive interaction,\t\"Detection Method\" : Detection Method,\t\"Publication IDs\" : Publication IDs,\t\"Interaction Type\" : Interaction Type,\t\"Interaction AC\"  Interaction AC,\t\"Confidence Value\" : Confidence Value,\t\"Expansion Method\" : Expansion Method,\t\"Aliases A\" : Aliases A,\t\"Aliases B\" : Aliases B,\t\"Feature count\" : Feature count,\t\"Interaction Annotations\" : Interaction Annotations }, ignore_index=True)"
      ],
      "metadata": {
        "colab": {
          "base_uri": "https://localhost:8080/",
          "height": 140
        },
        "outputId": "866530e8-bdb3-4862-a856-db77e7e9a4b0",
        "id": "8DRW7ggsgLDX"
      },
      "execution_count": null,
      "outputs": [
        {
          "output_type": "error",
          "ename": "SyntaxError",
          "evalue": "invalid syntax (<ipython-input-31-db1c6c10f428>, line 5)",
          "traceback": [
            "\u001b[0;36m  File \u001b[0;32m\"<ipython-input-31-db1c6c10f428>\"\u001b[0;36m, line \u001b[0;32m5\u001b[0m\n\u001b[0;31m    Molecule A = col[0].text\u001b[0m\n\u001b[0m             ^\u001b[0m\n\u001b[0;31mSyntaxError\u001b[0m\u001b[0;31m:\u001b[0m invalid syntax\n"
          ]
        }
      ]
    }
  ]
}